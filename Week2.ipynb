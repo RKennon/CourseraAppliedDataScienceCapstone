{
    "cells": [
        {
            "metadata": {
                "collapsed": true
            },
            "cell_type": "markdown",
            "source": "<h1>Business Case</h1>"
        },
        {
            "metadata": {},
            "cell_type": "markdown",
            "source": "How should accident respose teams be best deployed? This includes an analysis of when and where the resource should be \nused during different weather conditions."
        },
        {
            "metadata": {},
            "cell_type": "markdown",
            "source": "<b> Data Plan </b> "
        },
        {
            "metadata": {},
            "cell_type": "markdown",
            "source": "The data will be cleaned by removing all unknown weather condidions and normalized.  Then the data will be \nput through a density based clustering algorithm based on the latitude and logitude of the accident and visualized on\na map and labeled by weather condition."
        },
        {
            "metadata": {},
            "cell_type": "code",
            "source": "",
            "execution_count": null,
            "outputs": []
        }
    ],
    "metadata": {
        "kernelspec": {
            "name": "python3",
            "display_name": "Python 3.6",
            "language": "python"
        },
        "language_info": {
            "name": "python",
            "version": "3.6.9",
            "mimetype": "text/x-python",
            "codemirror_mode": {
                "name": "ipython",
                "version": 3
            },
            "pygments_lexer": "ipython3",
            "nbconvert_exporter": "python",
            "file_extension": ".py"
        }
    },
    "nbformat": 4,
    "nbformat_minor": 1
}