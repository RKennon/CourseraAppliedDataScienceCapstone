{
    "cells": [
        {
            "metadata": {
                "collapsed": true
            },
            "cell_type": "markdown",
            "source": "<h1>Business Case</h1>"
        },
        {
            "metadata": {},
            "cell_type": "markdown",
            "source": "How can accident respose teams be best deployed? Every City has a limited amount of accident response resources \nincluding police, paramedics, and fire departments.  This analysis will help inform them about how to better manage \nstaffing and general preparedness for accidents during different weather condidions.  Additionally it may help guide\ninfastructure decisions, what about these high level of accidents locations is causing the spike in accidents and if there is a way to fix\nthem."
        },
        {
            "metadata": {},
            "cell_type": "markdown",
            "source": "<b> Data Plan </b> "
        },
        {
            "metadata": {},
            "cell_type": "markdown",
            "source": "The data can be seperated by severity with two values; 1 or 2.  after removing 'WEATHER' data that was listed as \nunkown ther are still 189592 samples, more than enough to provide a good picture of where and when accidents are \noccuring. There are 10 distinct weather condidions which may cause a confusing visual, the data may need to be\ntrimmed to only include the top 5 most common reported weather conditions during accident.\nThe data will be cleaned by removing all unknown weather condidions as that data is of no value for this analysis.  Then the data will be \nput through a density based clustering algorithm based on the latitude and logitude of the accident and visualized on\na map and labeled by weather condition."
        },
        {
            "metadata": {},
            "cell_type": "code",
            "source": "",
            "execution_count": null,
            "outputs": []
        }
    ],
    "metadata": {
        "kernelspec": {
            "name": "python3",
            "display_name": "Python 3.6",
            "language": "python"
        },
        "language_info": {
            "name": "python",
            "version": "3.6.9",
            "mimetype": "text/x-python",
            "codemirror_mode": {
                "name": "ipython",
                "version": 3
            },
            "pygments_lexer": "ipython3",
            "nbconvert_exporter": "python",
            "file_extension": ".py"
        }
    },
    "nbformat": 4,
    "nbformat_minor": 1
}